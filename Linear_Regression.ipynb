{
  "nbformat": 4,
  "nbformat_minor": 0,
  "metadata": {
    "colab": {
      "provenance": [],
      "authorship_tag": "ABX9TyNbtUjIBBN06fo6NQlm79Dg",
      "include_colab_link": true
    },
    "kernelspec": {
      "name": "python3",
      "display_name": "Python 3"
    },
    "language_info": {
      "name": "python"
    }
  },
  "cells": [
    {
      "cell_type": "markdown",
      "metadata": {
        "id": "view-in-github",
        "colab_type": "text"
      },
      "source": [
        "<a href=\"https://colab.research.google.com/github/soumya-1313/Scikit_learn/blob/main/Linear_Regression.ipynb\" target=\"_parent\"><img src=\"https://colab.research.google.com/assets/colab-badge.svg\" alt=\"Open In Colab\"/></a>"
      ]
    },
    {
      "cell_type": "markdown",
      "source": [
        "# ***Linear Regression***"
      ],
      "metadata": {
        "id": "nUR03T-pi8Rz"
      }
    },
    {
      "cell_type": "code",
      "source": [
        "from sklearn import datasets\n",
        "from sklearn import linear_model\n",
        "from sklearn.model_selection import train_test_split\n",
        "from matplotlib import pyplot as plt"
      ],
      "metadata": {
        "id": "O9Va82xQjBm5"
      },
      "execution_count": 2,
      "outputs": []
    },
    {
      "cell_type": "code",
      "execution_count": 5,
      "metadata": {
        "id": "ikpf8ai_igfp"
      },
      "outputs": [],
      "source": [
        "import pandas as pd\n",
        "import numpy as np\n",
        "\n",
        "data_url = \"http://lib.stat.cmu.edu/datasets/boston\"\n",
        "raw_df = pd.read_csv(data_url, sep=\"\\s+\", skiprows=22, header=None)\n",
        "data = np.hstack([raw_df.values[::2, :], raw_df.values[1::2, :2]])\n",
        "target = raw_df.values[1::2, 2]"
      ]
    },
    {
      "cell_type": "code",
      "source": [
        "x = data\n",
        "y = target"
      ],
      "metadata": {
        "id": "OqvDkYvUitcH"
      },
      "execution_count": 11,
      "outputs": []
    },
    {
      "cell_type": "code",
      "source": [
        "x.shape()"
      ],
      "metadata": {
        "colab": {
          "base_uri": "https://localhost:8080/",
          "height": 141
        },
        "id": "0LCEdnzzll5D",
        "outputId": "9e3fa0d7-5a0b-4d90-d184-fb4132008ba8"
      },
      "execution_count": 12,
      "outputs": [
        {
          "output_type": "error",
          "ename": "TypeError",
          "evalue": "'tuple' object is not callable",
          "traceback": [
            "\u001b[0;31m---------------------------------------------------------------------------\u001b[0m",
            "\u001b[0;31mTypeError\u001b[0m                                 Traceback (most recent call last)",
            "\u001b[0;32m/tmp/ipython-input-62431042.py\u001b[0m in \u001b[0;36m<cell line: 0>\u001b[0;34m()\u001b[0m\n\u001b[0;32m----> 1\u001b[0;31m \u001b[0mx\u001b[0m\u001b[0;34m.\u001b[0m\u001b[0mshape\u001b[0m\u001b[0;34m(\u001b[0m\u001b[0;34m)\u001b[0m\u001b[0;34m\u001b[0m\u001b[0;34m\u001b[0m\u001b[0m\n\u001b[0m",
            "\u001b[0;31mTypeError\u001b[0m: 'tuple' object is not callable"
          ]
        }
      ]
    },
    {
      "cell_type": "markdown",
      "source": [],
      "metadata": {
        "id": "uVJxuYsyij8b"
      }
    },
    {
      "cell_type": "code",
      "metadata": {
        "colab": {
          "base_uri": "https://localhost:8080/"
        },
        "id": "55b49cbd",
        "outputId": "3a633fc1-09d0-4484-d744-8b3dd7e64c14"
      },
      "source": [
        "x.shape"
      ],
      "execution_count": 14,
      "outputs": [
        {
          "output_type": "execute_result",
          "data": {
            "text/plain": [
              "(506, 13)"
            ]
          },
          "metadata": {},
          "execution_count": 14
        }
      ]
    },
    {
      "cell_type": "code",
      "source": [
        "y.shape"
      ],
      "metadata": {
        "colab": {
          "base_uri": "https://localhost:8080/"
        },
        "id": "QWLhYwOSmH6A",
        "outputId": "eb615707-4256-43f0-855a-261c9591dffd"
      },
      "execution_count": 15,
      "outputs": [
        {
          "output_type": "execute_result",
          "data": {
            "text/plain": [
              "(506,)"
            ]
          },
          "metadata": {},
          "execution_count": 15
        }
      ]
    },
    {
      "cell_type": "code",
      "source": [
        "plt.scatter(x[:,0],y)"
      ],
      "metadata": {
        "colab": {
          "base_uri": "https://localhost:8080/",
          "height": 447
        },
        "id": "OFWubTjNmOLj",
        "outputId": "e661e450-1af2-40c8-936e-ad52618b880e"
      },
      "execution_count": 16,
      "outputs": [
        {
          "output_type": "execute_result",
          "data": {
            "text/plain": [
              "<matplotlib.collections.PathCollection at 0x79a8fff5fad0>"
            ]
          },
          "metadata": {},
          "execution_count": 16
        },
        {
          "output_type": "display_data",
          "data": {
            "text/plain": [
              "<Figure size 640x480 with 1 Axes>"
            ],
            "image/png": "[encoded data removed]"
          },
          "metadata": {}
        }
      ]
    },
    {
      "cell_type": "code",
      "source": [
        "plt.scatter(x[:,1],y)"
      ],
      "metadata": {
        "colab": {
          "base_uri": "https://localhost:8080/",
          "height": 447
        },
        "id": "FN7EOp8QmXcu",
        "outputId": "db5fc406-e433-44cd-9e56-d9ff010903b2"
      },
      "execution_count": 17,
      "outputs": [
        {
          "output_type": "execute_result",
          "data": {
            "text/plain": [
              "<matplotlib.collections.PathCollection at 0x79a8ffb90610>"
            ]
          },
          "metadata": {},
          "execution_count": 17
        },
        {
          "output_type": "display_data",
          "data": {
            "text/plain": [
              "<Figure size 640x480 with 1 Axes>"
            ],
            "image/png": "[encoded data removed]"
          },
          "metadata": {}
        }
      ]
    },
    {
      "cell_type": "code",
      "source": [
        "x_train,x_test,y_train,y_test=train_test_split(x,y,test_size=0.2)"
      ],
      "metadata": {
        "id": "HHrws54JmbpM"
      },
      "execution_count": 18,
      "outputs": []
    },
    {
      "cell_type": "code",
      "source": [
        "l_reg=linear_model.LinearRegression()\n",
        "model=l_reg.fit(x_train,y_train)"
      ],
      "metadata": {
        "id": "pIJ6TOmHmzJR"
      },
      "execution_count": 19,
      "outputs": []
    },
    {
      "cell_type": "code",
      "source": [
        "prediction=model.predict(x_test)\n",
        "prediction"
      ],
      "metadata": {
        "colab": {
          "base_uri": "https://localhost:8080/"
        },
        "id": "KU5Oo_CsnENk",
        "outputId": "1294ce87-aa02-4d71-cb2f-ef7a872a53ef"
      },
      "execution_count": 21,
      "outputs": [
        {
          "output_type": "execute_result",
          "data": {
            "text/plain": [
              "array([13.29985535, 36.51357056, 27.55849203, 26.81058534, 29.50685858,\n",
              "       21.44787852, 16.52902886, 14.02376837, 28.1583275 , 19.28843157,\n",
              "       18.92309797, 23.64861114, 12.00984253, 22.87319025,  9.17801962,\n",
              "       24.2134724 , 26.55591145, 21.67128094, 27.26026439, 28.18080781,\n",
              "       31.69235287, 39.87383507, 25.12241957, 34.8492847 , 14.12803366,\n",
              "       18.57860032, 24.87806687, 17.4141619 , 24.30449469, 19.2367664 ,\n",
              "       24.12752433, 18.21864702, 30.41943529, 21.85478993, -3.92523653,\n",
              "       19.34692883, 28.97339724, 23.01331836, 34.11283456, 22.99533322,\n",
              "       27.29862678, 19.30408644, 31.95467844, 31.77479326, 18.87324734,\n",
              "       36.33281399, 14.17903924, 24.53331566, 19.76673686, 22.15419191,\n",
              "       19.55343081, 12.25328904, 14.32327215, 24.84153255, 14.23149358,\n",
              "       30.85636814, 13.92531091, 16.52689306, 14.00930737, 11.46448786,\n",
              "       18.48785804, 24.45451879, 24.81976481, 27.43978413, 30.77610584,\n",
              "       23.28740137, 15.91412661, 23.48721403, 34.30842166, 35.39871476,\n",
              "       23.36670917, 33.54574295, 21.96589589, 24.09537217, 17.13928986,\n",
              "       14.95059362, 17.1748441 , 22.38317372, 16.7739036 ,  6.66348158,\n",
              "       19.83323007, 24.6333762 , 39.66290193, 35.07186693, 16.68708478,\n",
              "       20.60095245,  6.09854581, 27.756632  , 32.46600435, 34.28795027,\n",
              "       33.39155126, 18.51786029, 21.26074596, 34.17728859,  4.30109026,\n",
              "       25.57736594, 11.79583013, 24.69388482, 17.74017323,  9.2943855 ,\n",
              "       12.94455164, 25.45638555])"
            ]
          },
          "metadata": {},
          "execution_count": 21
        }
      ]
    },
    {
      "cell_type": "code",
      "source": [
        "plt.scatter(prediction,y_test)"
      ],
      "metadata": {
        "colab": {
          "base_uri": "https://localhost:8080/",
          "height": 447
        },
        "id": "31B01UCmnR-4",
        "outputId": "c29ae9ec-5003-4d57-b720-3ed1ad8929c8"
      },
      "execution_count": 22,
      "outputs": [
        {
          "output_type": "execute_result",
          "data": {
            "text/plain": [
              "<matplotlib.collections.PathCollection at 0x79a8ffb49410>"
            ]
          },
          "metadata": {},
          "execution_count": 22
        },
        {
          "output_type": "display_data",
          "data": {
            "text/plain": [
              "<Figure size 640x480 with 1 Axes>"
            ],
            "image/png": "[encoded data removed]"
          },
          "metadata": {}
        }
      ]
    },
    {
      "cell_type": "code",
      "source": [
        "print(\"Accuracy \",l_reg.score(x,y))\n",
        "print(\"regression coeff\",l_reg.coef_)\n",
        "print(\"y_intercept\",l_reg.intercept_)\n"
      ],
      "metadata": {
        "colab": {
          "base_uri": "https://localhost:8080/"
        },
        "id": "neIIvellnWzZ",
        "outputId": "f6b8ce5e-b159-454d-99ed-6ea4f98145e9"
      },
      "execution_count": 27,
      "outputs": [
        {
          "output_type": "stream",
          "name": "stdout",
          "text": [
            "Accuracy  0.7372122835511057\n",
            "regression coeff [-1.23289804e-01  6.28038943e-02  2.36567986e-02  2.76400484e+00\n",
            " -2.09965986e+01  2.95015086e+00  1.53398216e-02 -1.64822610e+00\n",
            "  3.45391008e-01 -1.47691563e-02 -9.28112018e-01  7.89026148e-03\n",
            " -5.70209282e-01]\n",
            "y_intercept 44.38922316660989\n"
          ]
        }
      ]
    }
  ]
}