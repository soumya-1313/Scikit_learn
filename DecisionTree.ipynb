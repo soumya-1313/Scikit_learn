{
  "nbformat": 4,
  "nbformat_minor": 0,
  "metadata": {
    "colab": {
      "provenance": [],
      "authorship_tag": "ABX9TyOna9fVIrgPr7C35TPWErAD",
      "include_colab_link": true
    },
    "kernelspec": {
      "name": "python3",
      "display_name": "Python 3"
    },
    "language_info": {
      "name": "python"
    }
  },
  "cells": [
    {
      "cell_type": "markdown",
      "metadata": {
        "id": "view-in-github",
        "colab_type": "text"
      },
      "source": [
        "<a href=\"https://colab.research.google.com/github/soumya-1313/Scikit_learn/blob/main/DecisionTree.ipynb\" target=\"_parent\"><img src=\"https://colab.research.google.com/assets/colab-badge.svg\" alt=\"Open In Colab\"/></a>"
      ]
    },
    {
      "cell_type": "markdown",
      "source": [
        "# ***DECISION TREE***\n",
        "1.  classification/regression\n",
        "2. CART=classification and regression tree\n",
        "3. disadvantages:overfitting,bias,unstable algo,limited expressiveness\n",
        "4. not for complex data\n",
        "5. **Entropy**-measurement of randomness or unpredictability\n",
        "6.  **Information Gain**-how much entropy was removed during splitting\n",
        "7. **Gini impurity**-purity of the split"
      ],
      "metadata": {
        "id": "Rh5OU7NXfyIF"
      }
    },
    {
      "cell_type": "code",
      "execution_count": 3,
      "metadata": {
        "id": "XVmY08xHcd2p"
      },
      "outputs": [],
      "source": [
        "#transforms categorical data into numerical data\n",
        "from sklearn.preprocessing import OrdinalEncoder\n",
        "oe=OrdinalEncoder()\n",
        "df[[\"col1\",\"col2\"]]=oe.fit_transform(df[[\"col1\",\"col2\"]])\n",
        "#input->2d not in series\n",
        "\n"
      ]
    },
    {
      "cell_type": "code",
      "source": [
        "from sklearn.tree import DecisionTreeClassifier\n",
        "clf_gini=DecisionTreeClassifier(criterion='gini',random_state=100)\n",
        "clf_gini.fit(x_train,y_train)\n",
        "y_pred_gini=clf_gini.predict(x_test)\n"
      ],
      "metadata": {
        "id": "eeQMrNnEHVh2"
      },
      "execution_count": null,
      "outputs": []
    },
    {
      "cell_type": "code",
      "source": [
        "from sklearn import tree\n",
        "plt.figure(figsize=(15,10))\n",
        "tree.plot_tree(clf_gini.fit(x_train,y_train))"
      ],
      "metadata": {
        "id": "GT_kxYGPH9dW"
      },
      "execution_count": null,
      "outputs": []
    }
  ]
}